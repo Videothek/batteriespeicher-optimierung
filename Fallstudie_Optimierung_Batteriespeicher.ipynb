{
  "cells": [
    {
      "cell_type": "markdown",
      "metadata": {
        "id": "view-in-github",
        "colab_type": "text"
      },
      "source": [
        "<a href=\"https://colab.research.google.com/github/Videothek/batteriespeicher-optimierung/blob/main/Fallstudie_Optimierung_Batteriespeicher.ipynb\" target=\"_parent\"><img src=\"https://colab.research.google.com/assets/colab-badge.svg\" alt=\"Open In Colab\"/></a>"
      ]
    },
    {
      "cell_type": "markdown",
      "metadata": {
        "id": "b2fc884d"
      },
      "source": [
        "# Fallstudie Optimierung Batteriespeicher\n"
      ]
    },
    {
      "cell_type": "markdown",
      "metadata": {
        "id": "4hq4f4QWRVp0"
      },
      "source": [
        "# Abhängigkeiten laden"
      ]
    },
    {
      "cell_type": "code",
      "execution_count": 56,
      "metadata": {
        "id": "GU7XiQUaBl7J"
      },
      "outputs": [],
      "source": [
        "#Installieren des Solvers\n",
        "! pip install -q pyscipopt"
      ]
    },
    {
      "cell_type": "code",
      "execution_count": 57,
      "metadata": {
        "id": "d8c0c7cc"
      },
      "outputs": [],
      "source": [
        "#Import der packages\n",
        "import pandas as pd\n",
        "import requests\n",
        "from io import BytesIO\n",
        "from pyscipopt import Model, quicksum"
      ]
    },
    {
      "cell_type": "markdown",
      "metadata": {
        "id": "Gjiz7NTLR2Rs"
      },
      "source": [
        "# Prognosewerte berechnen"
      ]
    },
    {
      "cell_type": "markdown",
      "metadata": {
        "id": "muy4OW--8Dp5"
      },
      "source": [
        "## Prognosedaten aus der Excel-Datei laden\n",
        "\n"
      ]
    },
    {
      "cell_type": "code",
      "execution_count": 58,
      "metadata": {
        "id": "cIrpH7yQ4jvx"
      },
      "outputs": [],
      "source": [
        "#Pfad zu den Prognosewerten\n",
        "url_excel = \"https://github.com/Videothek/batteriespeicher-optimierung/raw/refs/heads/main/Preisprognosen.xlsx\"\n",
        "resp = requests.get(url_excel)\n",
        "xlsx = BytesIO(resp.content)"
      ]
    },
    {
      "cell_type": "code",
      "execution_count": 59,
      "metadata": {
        "id": "uF0YYNBI8ILm"
      },
      "outputs": [],
      "source": [
        "#Prognosewerte einlesen\n",
        "prog=pd.read_excel(xlsx, sheet_name=0)"
      ]
    },
    {
      "cell_type": "code",
      "execution_count": 60,
      "metadata": {
        "colab": {
          "base_uri": "https://localhost:8080/",
          "height": 423
        },
        "id": "OTgdg4yJ-vPz",
        "outputId": "5c233f0d-db70-48f9-d33b-69626cfbb88d"
      },
      "outputs": [
        {
          "output_type": "execute_result",
          "data": {
            "text/plain": [
              "     Wahrscheinlichkeit  Stunde  Strompreis\n",
              "0                  0.04       1          66\n",
              "1                  0.04       1          72\n",
              "2                  0.04       1         130\n",
              "3                  0.04       1          69\n",
              "4                  0.04       1          94\n",
              "..                  ...     ...         ...\n",
              "595                0.04      24          78\n",
              "596                0.04      24          80\n",
              "597                0.04      24          90\n",
              "598                0.04      24          72\n",
              "599                0.04      24          59\n",
              "\n",
              "[600 rows x 3 columns]"
            ],
            "text/html": [
              "\n",
              "  <div id=\"df-4e9e8606-9b71-4d20-8aaf-ebcbad40ab43\" class=\"colab-df-container\">\n",
              "    <div>\n",
              "<style scoped>\n",
              "    .dataframe tbody tr th:only-of-type {\n",
              "        vertical-align: middle;\n",
              "    }\n",
              "\n",
              "    .dataframe tbody tr th {\n",
              "        vertical-align: top;\n",
              "    }\n",
              "\n",
              "    .dataframe thead th {\n",
              "        text-align: right;\n",
              "    }\n",
              "</style>\n",
              "<table border=\"1\" class=\"dataframe\">\n",
              "  <thead>\n",
              "    <tr style=\"text-align: right;\">\n",
              "      <th></th>\n",
              "      <th>Wahrscheinlichkeit</th>\n",
              "      <th>Stunde</th>\n",
              "      <th>Strompreis</th>\n",
              "    </tr>\n",
              "  </thead>\n",
              "  <tbody>\n",
              "    <tr>\n",
              "      <th>0</th>\n",
              "      <td>0.04</td>\n",
              "      <td>1</td>\n",
              "      <td>66</td>\n",
              "    </tr>\n",
              "    <tr>\n",
              "      <th>1</th>\n",
              "      <td>0.04</td>\n",
              "      <td>1</td>\n",
              "      <td>72</td>\n",
              "    </tr>\n",
              "    <tr>\n",
              "      <th>2</th>\n",
              "      <td>0.04</td>\n",
              "      <td>1</td>\n",
              "      <td>130</td>\n",
              "    </tr>\n",
              "    <tr>\n",
              "      <th>3</th>\n",
              "      <td>0.04</td>\n",
              "      <td>1</td>\n",
              "      <td>69</td>\n",
              "    </tr>\n",
              "    <tr>\n",
              "      <th>4</th>\n",
              "      <td>0.04</td>\n",
              "      <td>1</td>\n",
              "      <td>94</td>\n",
              "    </tr>\n",
              "    <tr>\n",
              "      <th>...</th>\n",
              "      <td>...</td>\n",
              "      <td>...</td>\n",
              "      <td>...</td>\n",
              "    </tr>\n",
              "    <tr>\n",
              "      <th>595</th>\n",
              "      <td>0.04</td>\n",
              "      <td>24</td>\n",
              "      <td>78</td>\n",
              "    </tr>\n",
              "    <tr>\n",
              "      <th>596</th>\n",
              "      <td>0.04</td>\n",
              "      <td>24</td>\n",
              "      <td>80</td>\n",
              "    </tr>\n",
              "    <tr>\n",
              "      <th>597</th>\n",
              "      <td>0.04</td>\n",
              "      <td>24</td>\n",
              "      <td>90</td>\n",
              "    </tr>\n",
              "    <tr>\n",
              "      <th>598</th>\n",
              "      <td>0.04</td>\n",
              "      <td>24</td>\n",
              "      <td>72</td>\n",
              "    </tr>\n",
              "    <tr>\n",
              "      <th>599</th>\n",
              "      <td>0.04</td>\n",
              "      <td>24</td>\n",
              "      <td>59</td>\n",
              "    </tr>\n",
              "  </tbody>\n",
              "</table>\n",
              "<p>600 rows × 3 columns</p>\n",
              "</div>\n",
              "    <div class=\"colab-df-buttons\">\n",
              "\n",
              "  <div class=\"colab-df-container\">\n",
              "    <button class=\"colab-df-convert\" onclick=\"convertToInteractive('df-4e9e8606-9b71-4d20-8aaf-ebcbad40ab43')\"\n",
              "            title=\"Convert this dataframe to an interactive table.\"\n",
              "            style=\"display:none;\">\n",
              "\n",
              "  <svg xmlns=\"http://www.w3.org/2000/svg\" height=\"24px\" viewBox=\"0 -960 960 960\">\n",
              "    <path d=\"M120-120v-720h720v720H120Zm60-500h600v-160H180v160Zm220 220h160v-160H400v160Zm0 220h160v-160H400v160ZM180-400h160v-160H180v160Zm440 0h160v-160H620v160ZM180-180h160v-160H180v160Zm440 0h160v-160H620v160Z\"/>\n",
              "  </svg>\n",
              "    </button>\n",
              "\n",
              "  <style>\n",
              "    .colab-df-container {\n",
              "      display:flex;\n",
              "      gap: 12px;\n",
              "    }\n",
              "\n",
              "    .colab-df-convert {\n",
              "      background-color: #E8F0FE;\n",
              "      border: none;\n",
              "      border-radius: 50%;\n",
              "      cursor: pointer;\n",
              "      display: none;\n",
              "      fill: #1967D2;\n",
              "      height: 32px;\n",
              "      padding: 0 0 0 0;\n",
              "      width: 32px;\n",
              "    }\n",
              "\n",
              "    .colab-df-convert:hover {\n",
              "      background-color: #E2EBFA;\n",
              "      box-shadow: 0px 1px 2px rgba(60, 64, 67, 0.3), 0px 1px 3px 1px rgba(60, 64, 67, 0.15);\n",
              "      fill: #174EA6;\n",
              "    }\n",
              "\n",
              "    .colab-df-buttons div {\n",
              "      margin-bottom: 4px;\n",
              "    }\n",
              "\n",
              "    [theme=dark] .colab-df-convert {\n",
              "      background-color: #3B4455;\n",
              "      fill: #D2E3FC;\n",
              "    }\n",
              "\n",
              "    [theme=dark] .colab-df-convert:hover {\n",
              "      background-color: #434B5C;\n",
              "      box-shadow: 0px 1px 3px 1px rgba(0, 0, 0, 0.15);\n",
              "      filter: drop-shadow(0px 1px 2px rgba(0, 0, 0, 0.3));\n",
              "      fill: #FFFFFF;\n",
              "    }\n",
              "  </style>\n",
              "\n",
              "    <script>\n",
              "      const buttonEl =\n",
              "        document.querySelector('#df-4e9e8606-9b71-4d20-8aaf-ebcbad40ab43 button.colab-df-convert');\n",
              "      buttonEl.style.display =\n",
              "        google.colab.kernel.accessAllowed ? 'block' : 'none';\n",
              "\n",
              "      async function convertToInteractive(key) {\n",
              "        const element = document.querySelector('#df-4e9e8606-9b71-4d20-8aaf-ebcbad40ab43');\n",
              "        const dataTable =\n",
              "          await google.colab.kernel.invokeFunction('convertToInteractive',\n",
              "                                                    [key], {});\n",
              "        if (!dataTable) return;\n",
              "\n",
              "        const docLinkHtml = 'Like what you see? Visit the ' +\n",
              "          '<a target=\"_blank\" href=https://colab.research.google.com/notebooks/data_table.ipynb>data table notebook</a>'\n",
              "          + ' to learn more about interactive tables.';\n",
              "        element.innerHTML = '';\n",
              "        dataTable['output_type'] = 'display_data';\n",
              "        await google.colab.output.renderOutput(dataTable, element);\n",
              "        const docLink = document.createElement('div');\n",
              "        docLink.innerHTML = docLinkHtml;\n",
              "        element.appendChild(docLink);\n",
              "      }\n",
              "    </script>\n",
              "  </div>\n",
              "\n",
              "\n",
              "<div id=\"df-40e93b37-2ef2-490a-bc74-fc7ad60624b2\">\n",
              "  <button class=\"colab-df-quickchart\" onclick=\"quickchart('df-40e93b37-2ef2-490a-bc74-fc7ad60624b2')\"\n",
              "            title=\"Suggest charts\"\n",
              "            style=\"display:none;\">\n",
              "\n",
              "<svg xmlns=\"http://www.w3.org/2000/svg\" height=\"24px\"viewBox=\"0 0 24 24\"\n",
              "     width=\"24px\">\n",
              "    <g>\n",
              "        <path d=\"M19 3H5c-1.1 0-2 .9-2 2v14c0 1.1.9 2 2 2h14c1.1 0 2-.9 2-2V5c0-1.1-.9-2-2-2zM9 17H7v-7h2v7zm4 0h-2V7h2v10zm4 0h-2v-4h2v4z\"/>\n",
              "    </g>\n",
              "</svg>\n",
              "  </button>\n",
              "\n",
              "<style>\n",
              "  .colab-df-quickchart {\n",
              "      --bg-color: #E8F0FE;\n",
              "      --fill-color: #1967D2;\n",
              "      --hover-bg-color: #E2EBFA;\n",
              "      --hover-fill-color: #174EA6;\n",
              "      --disabled-fill-color: #AAA;\n",
              "      --disabled-bg-color: #DDD;\n",
              "  }\n",
              "\n",
              "  [theme=dark] .colab-df-quickchart {\n",
              "      --bg-color: #3B4455;\n",
              "      --fill-color: #D2E3FC;\n",
              "      --hover-bg-color: #434B5C;\n",
              "      --hover-fill-color: #FFFFFF;\n",
              "      --disabled-bg-color: #3B4455;\n",
              "      --disabled-fill-color: #666;\n",
              "  }\n",
              "\n",
              "  .colab-df-quickchart {\n",
              "    background-color: var(--bg-color);\n",
              "    border: none;\n",
              "    border-radius: 50%;\n",
              "    cursor: pointer;\n",
              "    display: none;\n",
              "    fill: var(--fill-color);\n",
              "    height: 32px;\n",
              "    padding: 0;\n",
              "    width: 32px;\n",
              "  }\n",
              "\n",
              "  .colab-df-quickchart:hover {\n",
              "    background-color: var(--hover-bg-color);\n",
              "    box-shadow: 0 1px 2px rgba(60, 64, 67, 0.3), 0 1px 3px 1px rgba(60, 64, 67, 0.15);\n",
              "    fill: var(--button-hover-fill-color);\n",
              "  }\n",
              "\n",
              "  .colab-df-quickchart-complete:disabled,\n",
              "  .colab-df-quickchart-complete:disabled:hover {\n",
              "    background-color: var(--disabled-bg-color);\n",
              "    fill: var(--disabled-fill-color);\n",
              "    box-shadow: none;\n",
              "  }\n",
              "\n",
              "  .colab-df-spinner {\n",
              "    border: 2px solid var(--fill-color);\n",
              "    border-color: transparent;\n",
              "    border-bottom-color: var(--fill-color);\n",
              "    animation:\n",
              "      spin 1s steps(1) infinite;\n",
              "  }\n",
              "\n",
              "  @keyframes spin {\n",
              "    0% {\n",
              "      border-color: transparent;\n",
              "      border-bottom-color: var(--fill-color);\n",
              "      border-left-color: var(--fill-color);\n",
              "    }\n",
              "    20% {\n",
              "      border-color: transparent;\n",
              "      border-left-color: var(--fill-color);\n",
              "      border-top-color: var(--fill-color);\n",
              "    }\n",
              "    30% {\n",
              "      border-color: transparent;\n",
              "      border-left-color: var(--fill-color);\n",
              "      border-top-color: var(--fill-color);\n",
              "      border-right-color: var(--fill-color);\n",
              "    }\n",
              "    40% {\n",
              "      border-color: transparent;\n",
              "      border-right-color: var(--fill-color);\n",
              "      border-top-color: var(--fill-color);\n",
              "    }\n",
              "    60% {\n",
              "      border-color: transparent;\n",
              "      border-right-color: var(--fill-color);\n",
              "    }\n",
              "    80% {\n",
              "      border-color: transparent;\n",
              "      border-right-color: var(--fill-color);\n",
              "      border-bottom-color: var(--fill-color);\n",
              "    }\n",
              "    90% {\n",
              "      border-color: transparent;\n",
              "      border-bottom-color: var(--fill-color);\n",
              "    }\n",
              "  }\n",
              "</style>\n",
              "\n",
              "  <script>\n",
              "    async function quickchart(key) {\n",
              "      const quickchartButtonEl =\n",
              "        document.querySelector('#' + key + ' button');\n",
              "      quickchartButtonEl.disabled = true;  // To prevent multiple clicks.\n",
              "      quickchartButtonEl.classList.add('colab-df-spinner');\n",
              "      try {\n",
              "        const charts = await google.colab.kernel.invokeFunction(\n",
              "            'suggestCharts', [key], {});\n",
              "      } catch (error) {\n",
              "        console.error('Error during call to suggestCharts:', error);\n",
              "      }\n",
              "      quickchartButtonEl.classList.remove('colab-df-spinner');\n",
              "      quickchartButtonEl.classList.add('colab-df-quickchart-complete');\n",
              "    }\n",
              "    (() => {\n",
              "      let quickchartButtonEl =\n",
              "        document.querySelector('#df-40e93b37-2ef2-490a-bc74-fc7ad60624b2 button');\n",
              "      quickchartButtonEl.style.display =\n",
              "        google.colab.kernel.accessAllowed ? 'block' : 'none';\n",
              "    })();\n",
              "  </script>\n",
              "</div>\n",
              "\n",
              "  <div id=\"id_822c63d5-82df-4d84-9825-f40da27c777d\">\n",
              "    <style>\n",
              "      .colab-df-generate {\n",
              "        background-color: #E8F0FE;\n",
              "        border: none;\n",
              "        border-radius: 50%;\n",
              "        cursor: pointer;\n",
              "        display: none;\n",
              "        fill: #1967D2;\n",
              "        height: 32px;\n",
              "        padding: 0 0 0 0;\n",
              "        width: 32px;\n",
              "      }\n",
              "\n",
              "      .colab-df-generate:hover {\n",
              "        background-color: #E2EBFA;\n",
              "        box-shadow: 0px 1px 2px rgba(60, 64, 67, 0.3), 0px 1px 3px 1px rgba(60, 64, 67, 0.15);\n",
              "        fill: #174EA6;\n",
              "      }\n",
              "\n",
              "      [theme=dark] .colab-df-generate {\n",
              "        background-color: #3B4455;\n",
              "        fill: #D2E3FC;\n",
              "      }\n",
              "\n",
              "      [theme=dark] .colab-df-generate:hover {\n",
              "        background-color: #434B5C;\n",
              "        box-shadow: 0px 1px 3px 1px rgba(0, 0, 0, 0.15);\n",
              "        filter: drop-shadow(0px 1px 2px rgba(0, 0, 0, 0.3));\n",
              "        fill: #FFFFFF;\n",
              "      }\n",
              "    </style>\n",
              "    <button class=\"colab-df-generate\" onclick=\"generateWithVariable('prog')\"\n",
              "            title=\"Generate code using this dataframe.\"\n",
              "            style=\"display:none;\">\n",
              "\n",
              "  <svg xmlns=\"http://www.w3.org/2000/svg\" height=\"24px\"viewBox=\"0 0 24 24\"\n",
              "       width=\"24px\">\n",
              "    <path d=\"M7,19H8.4L18.45,9,17,7.55,7,17.6ZM5,21V16.75L18.45,3.32a2,2,0,0,1,2.83,0l1.4,1.43a1.91,1.91,0,0,1,.58,1.4,1.91,1.91,0,0,1-.58,1.4L9.25,21ZM18.45,9,17,7.55Zm-12,3A5.31,5.31,0,0,0,4.9,8.1,5.31,5.31,0,0,0,1,6.5,5.31,5.31,0,0,0,4.9,4.9,5.31,5.31,0,0,0,6.5,1,5.31,5.31,0,0,0,8.1,4.9,5.31,5.31,0,0,0,12,6.5,5.46,5.46,0,0,0,6.5,12Z\"/>\n",
              "  </svg>\n",
              "    </button>\n",
              "    <script>\n",
              "      (() => {\n",
              "      const buttonEl =\n",
              "        document.querySelector('#id_822c63d5-82df-4d84-9825-f40da27c777d button.colab-df-generate');\n",
              "      buttonEl.style.display =\n",
              "        google.colab.kernel.accessAllowed ? 'block' : 'none';\n",
              "\n",
              "      buttonEl.onclick = () => {\n",
              "        google.colab.notebook.generateWithVariable('prog');\n",
              "      }\n",
              "      })();\n",
              "    </script>\n",
              "  </div>\n",
              "\n",
              "    </div>\n",
              "  </div>\n"
            ],
            "application/vnd.google.colaboratory.intrinsic+json": {
              "type": "dataframe",
              "variable_name": "prog",
              "summary": "{\n  \"name\": \"prog\",\n  \"rows\": 600,\n  \"fields\": [\n    {\n      \"column\": \"Wahrscheinlichkeit\",\n      \"properties\": {\n        \"dtype\": \"number\",\n        \"std\": 5.555746842849498e-16,\n        \"min\": 0.04,\n        \"max\": 0.04,\n        \"num_unique_values\": 1,\n        \"samples\": [\n          0.04\n        ],\n        \"semantic_type\": \"\",\n        \"description\": \"\"\n      }\n    },\n    {\n      \"column\": \"Stunde\",\n      \"properties\": {\n        \"dtype\": \"number\",\n        \"std\": 6,\n        \"min\": 1,\n        \"max\": 24,\n        \"num_unique_values\": 24,\n        \"samples\": [\n          9\n        ],\n        \"semantic_type\": \"\",\n        \"description\": \"\"\n      }\n    },\n    {\n      \"column\": \"Strompreis\",\n      \"properties\": {\n        \"dtype\": \"number\",\n        \"std\": 46,\n        \"min\": -61,\n        \"max\": 246,\n        \"num_unique_values\": 189,\n        \"samples\": [\n          139\n        ],\n        \"semantic_type\": \"\",\n        \"description\": \"\"\n      }\n    }\n  ]\n}"
            }
          },
          "metadata": {},
          "execution_count": 60
        }
      ],
      "source": [
        "#Prognosewerte ausgeben\n",
        "prog"
      ]
    },
    {
      "cell_type": "markdown",
      "metadata": {
        "id": "DdUWFtmTFugI"
      },
      "source": [
        "## Erwartungswert berechnen"
      ]
    },
    {
      "cell_type": "code",
      "execution_count": 61,
      "metadata": {
        "id": "eqNdsT4CIAHq"
      },
      "outputs": [],
      "source": [
        "#Spalte der Wahrscheinlichkeiten löschen\n",
        "prog = prog.drop('Wahrscheinlichkeit', axis=1)"
      ]
    },
    {
      "cell_type": "code",
      "execution_count": 62,
      "metadata": {
        "id": "Uwr_8pnMF0ln"
      },
      "outputs": [],
      "source": [
        "#Erwartungswert für jede Stunde berechnen\n",
        "prog = prog.groupby('Stunde').mean().reset_index()"
      ]
    },
    {
      "cell_type": "code",
      "execution_count": 63,
      "metadata": {
        "id": "35HrMAbvKSwx"
      },
      "outputs": [],
      "source": [
        "#Überschrift der Spalte \"Strompreise\" ändern\n",
        "prog = prog.rename(columns={\"Strompreis\": \"Erwartungswert\"}, errors=\"raise\")"
      ]
    },
    {
      "cell_type": "code",
      "execution_count": 64,
      "metadata": {
        "colab": {
          "base_uri": "https://localhost:8080/",
          "height": 822
        },
        "id": "58KztNhzK9ki",
        "outputId": "cd176c95-1613-448e-ca09-fef8f6a17fbe"
      },
      "outputs": [
        {
          "output_type": "execute_result",
          "data": {
            "text/plain": [
              "    Stunde  Erwartungswert\n",
              "0        1           81.52\n",
              "1        2           72.24\n",
              "2        3           68.16\n",
              "3        4           66.64\n",
              "4        5           66.80\n",
              "5        6           71.04\n",
              "6        7           88.56\n",
              "7        8           92.68\n",
              "8        9           80.92\n",
              "9       10           61.08\n",
              "10      11           43.08\n",
              "11      12           30.88\n",
              "12      13           22.44\n",
              "13      14           15.96\n",
              "14      15           12.52\n",
              "15      16           18.44\n",
              "16      17           34.88\n",
              "17      18           56.56\n",
              "18      19           78.44\n",
              "19      20          105.60\n",
              "20      21          144.80\n",
              "21      22          125.12\n",
              "22      23          101.36\n",
              "23      24           85.28"
            ],
            "text/html": [
              "\n",
              "  <div id=\"df-03997b82-86fd-4b3d-8e46-f8cd77126db5\" class=\"colab-df-container\">\n",
              "    <div>\n",
              "<style scoped>\n",
              "    .dataframe tbody tr th:only-of-type {\n",
              "        vertical-align: middle;\n",
              "    }\n",
              "\n",
              "    .dataframe tbody tr th {\n",
              "        vertical-align: top;\n",
              "    }\n",
              "\n",
              "    .dataframe thead th {\n",
              "        text-align: right;\n",
              "    }\n",
              "</style>\n",
              "<table border=\"1\" class=\"dataframe\">\n",
              "  <thead>\n",
              "    <tr style=\"text-align: right;\">\n",
              "      <th></th>\n",
              "      <th>Stunde</th>\n",
              "      <th>Erwartungswert</th>\n",
              "    </tr>\n",
              "  </thead>\n",
              "  <tbody>\n",
              "    <tr>\n",
              "      <th>0</th>\n",
              "      <td>1</td>\n",
              "      <td>81.52</td>\n",
              "    </tr>\n",
              "    <tr>\n",
              "      <th>1</th>\n",
              "      <td>2</td>\n",
              "      <td>72.24</td>\n",
              "    </tr>\n",
              "    <tr>\n",
              "      <th>2</th>\n",
              "      <td>3</td>\n",
              "      <td>68.16</td>\n",
              "    </tr>\n",
              "    <tr>\n",
              "      <th>3</th>\n",
              "      <td>4</td>\n",
              "      <td>66.64</td>\n",
              "    </tr>\n",
              "    <tr>\n",
              "      <th>4</th>\n",
              "      <td>5</td>\n",
              "      <td>66.80</td>\n",
              "    </tr>\n",
              "    <tr>\n",
              "      <th>5</th>\n",
              "      <td>6</td>\n",
              "      <td>71.04</td>\n",
              "    </tr>\n",
              "    <tr>\n",
              "      <th>6</th>\n",
              "      <td>7</td>\n",
              "      <td>88.56</td>\n",
              "    </tr>\n",
              "    <tr>\n",
              "      <th>7</th>\n",
              "      <td>8</td>\n",
              "      <td>92.68</td>\n",
              "    </tr>\n",
              "    <tr>\n",
              "      <th>8</th>\n",
              "      <td>9</td>\n",
              "      <td>80.92</td>\n",
              "    </tr>\n",
              "    <tr>\n",
              "      <th>9</th>\n",
              "      <td>10</td>\n",
              "      <td>61.08</td>\n",
              "    </tr>\n",
              "    <tr>\n",
              "      <th>10</th>\n",
              "      <td>11</td>\n",
              "      <td>43.08</td>\n",
              "    </tr>\n",
              "    <tr>\n",
              "      <th>11</th>\n",
              "      <td>12</td>\n",
              "      <td>30.88</td>\n",
              "    </tr>\n",
              "    <tr>\n",
              "      <th>12</th>\n",
              "      <td>13</td>\n",
              "      <td>22.44</td>\n",
              "    </tr>\n",
              "    <tr>\n",
              "      <th>13</th>\n",
              "      <td>14</td>\n",
              "      <td>15.96</td>\n",
              "    </tr>\n",
              "    <tr>\n",
              "      <th>14</th>\n",
              "      <td>15</td>\n",
              "      <td>12.52</td>\n",
              "    </tr>\n",
              "    <tr>\n",
              "      <th>15</th>\n",
              "      <td>16</td>\n",
              "      <td>18.44</td>\n",
              "    </tr>\n",
              "    <tr>\n",
              "      <th>16</th>\n",
              "      <td>17</td>\n",
              "      <td>34.88</td>\n",
              "    </tr>\n",
              "    <tr>\n",
              "      <th>17</th>\n",
              "      <td>18</td>\n",
              "      <td>56.56</td>\n",
              "    </tr>\n",
              "    <tr>\n",
              "      <th>18</th>\n",
              "      <td>19</td>\n",
              "      <td>78.44</td>\n",
              "    </tr>\n",
              "    <tr>\n",
              "      <th>19</th>\n",
              "      <td>20</td>\n",
              "      <td>105.60</td>\n",
              "    </tr>\n",
              "    <tr>\n",
              "      <th>20</th>\n",
              "      <td>21</td>\n",
              "      <td>144.80</td>\n",
              "    </tr>\n",
              "    <tr>\n",
              "      <th>21</th>\n",
              "      <td>22</td>\n",
              "      <td>125.12</td>\n",
              "    </tr>\n",
              "    <tr>\n",
              "      <th>22</th>\n",
              "      <td>23</td>\n",
              "      <td>101.36</td>\n",
              "    </tr>\n",
              "    <tr>\n",
              "      <th>23</th>\n",
              "      <td>24</td>\n",
              "      <td>85.28</td>\n",
              "    </tr>\n",
              "  </tbody>\n",
              "</table>\n",
              "</div>\n",
              "    <div class=\"colab-df-buttons\">\n",
              "\n",
              "  <div class=\"colab-df-container\">\n",
              "    <button class=\"colab-df-convert\" onclick=\"convertToInteractive('df-03997b82-86fd-4b3d-8e46-f8cd77126db5')\"\n",
              "            title=\"Convert this dataframe to an interactive table.\"\n",
              "            style=\"display:none;\">\n",
              "\n",
              "  <svg xmlns=\"http://www.w3.org/2000/svg\" height=\"24px\" viewBox=\"0 -960 960 960\">\n",
              "    <path d=\"M120-120v-720h720v720H120Zm60-500h600v-160H180v160Zm220 220h160v-160H400v160Zm0 220h160v-160H400v160ZM180-400h160v-160H180v160Zm440 0h160v-160H620v160ZM180-180h160v-160H180v160Zm440 0h160v-160H620v160Z\"/>\n",
              "  </svg>\n",
              "    </button>\n",
              "\n",
              "  <style>\n",
              "    .colab-df-container {\n",
              "      display:flex;\n",
              "      gap: 12px;\n",
              "    }\n",
              "\n",
              "    .colab-df-convert {\n",
              "      background-color: #E8F0FE;\n",
              "      border: none;\n",
              "      border-radius: 50%;\n",
              "      cursor: pointer;\n",
              "      display: none;\n",
              "      fill: #1967D2;\n",
              "      height: 32px;\n",
              "      padding: 0 0 0 0;\n",
              "      width: 32px;\n",
              "    }\n",
              "\n",
              "    .colab-df-convert:hover {\n",
              "      background-color: #E2EBFA;\n",
              "      box-shadow: 0px 1px 2px rgba(60, 64, 67, 0.3), 0px 1px 3px 1px rgba(60, 64, 67, 0.15);\n",
              "      fill: #174EA6;\n",
              "    }\n",
              "\n",
              "    .colab-df-buttons div {\n",
              "      margin-bottom: 4px;\n",
              "    }\n",
              "\n",
              "    [theme=dark] .colab-df-convert {\n",
              "      background-color: #3B4455;\n",
              "      fill: #D2E3FC;\n",
              "    }\n",
              "\n",
              "    [theme=dark] .colab-df-convert:hover {\n",
              "      background-color: #434B5C;\n",
              "      box-shadow: 0px 1px 3px 1px rgba(0, 0, 0, 0.15);\n",
              "      filter: drop-shadow(0px 1px 2px rgba(0, 0, 0, 0.3));\n",
              "      fill: #FFFFFF;\n",
              "    }\n",
              "  </style>\n",
              "\n",
              "    <script>\n",
              "      const buttonEl =\n",
              "        document.querySelector('#df-03997b82-86fd-4b3d-8e46-f8cd77126db5 button.colab-df-convert');\n",
              "      buttonEl.style.display =\n",
              "        google.colab.kernel.accessAllowed ? 'block' : 'none';\n",
              "\n",
              "      async function convertToInteractive(key) {\n",
              "        const element = document.querySelector('#df-03997b82-86fd-4b3d-8e46-f8cd77126db5');\n",
              "        const dataTable =\n",
              "          await google.colab.kernel.invokeFunction('convertToInteractive',\n",
              "                                                    [key], {});\n",
              "        if (!dataTable) return;\n",
              "\n",
              "        const docLinkHtml = 'Like what you see? Visit the ' +\n",
              "          '<a target=\"_blank\" href=https://colab.research.google.com/notebooks/data_table.ipynb>data table notebook</a>'\n",
              "          + ' to learn more about interactive tables.';\n",
              "        element.innerHTML = '';\n",
              "        dataTable['output_type'] = 'display_data';\n",
              "        await google.colab.output.renderOutput(dataTable, element);\n",
              "        const docLink = document.createElement('div');\n",
              "        docLink.innerHTML = docLinkHtml;\n",
              "        element.appendChild(docLink);\n",
              "      }\n",
              "    </script>\n",
              "  </div>\n",
              "\n",
              "\n",
              "<div id=\"df-4c4ad338-b4ba-423e-91ac-7e54573b0747\">\n",
              "  <button class=\"colab-df-quickchart\" onclick=\"quickchart('df-4c4ad338-b4ba-423e-91ac-7e54573b0747')\"\n",
              "            title=\"Suggest charts\"\n",
              "            style=\"display:none;\">\n",
              "\n",
              "<svg xmlns=\"http://www.w3.org/2000/svg\" height=\"24px\"viewBox=\"0 0 24 24\"\n",
              "     width=\"24px\">\n",
              "    <g>\n",
              "        <path d=\"M19 3H5c-1.1 0-2 .9-2 2v14c0 1.1.9 2 2 2h14c1.1 0 2-.9 2-2V5c0-1.1-.9-2-2-2zM9 17H7v-7h2v7zm4 0h-2V7h2v10zm4 0h-2v-4h2v4z\"/>\n",
              "    </g>\n",
              "</svg>\n",
              "  </button>\n",
              "\n",
              "<style>\n",
              "  .colab-df-quickchart {\n",
              "      --bg-color: #E8F0FE;\n",
              "      --fill-color: #1967D2;\n",
              "      --hover-bg-color: #E2EBFA;\n",
              "      --hover-fill-color: #174EA6;\n",
              "      --disabled-fill-color: #AAA;\n",
              "      --disabled-bg-color: #DDD;\n",
              "  }\n",
              "\n",
              "  [theme=dark] .colab-df-quickchart {\n",
              "      --bg-color: #3B4455;\n",
              "      --fill-color: #D2E3FC;\n",
              "      --hover-bg-color: #434B5C;\n",
              "      --hover-fill-color: #FFFFFF;\n",
              "      --disabled-bg-color: #3B4455;\n",
              "      --disabled-fill-color: #666;\n",
              "  }\n",
              "\n",
              "  .colab-df-quickchart {\n",
              "    background-color: var(--bg-color);\n",
              "    border: none;\n",
              "    border-radius: 50%;\n",
              "    cursor: pointer;\n",
              "    display: none;\n",
              "    fill: var(--fill-color);\n",
              "    height: 32px;\n",
              "    padding: 0;\n",
              "    width: 32px;\n",
              "  }\n",
              "\n",
              "  .colab-df-quickchart:hover {\n",
              "    background-color: var(--hover-bg-color);\n",
              "    box-shadow: 0 1px 2px rgba(60, 64, 67, 0.3), 0 1px 3px 1px rgba(60, 64, 67, 0.15);\n",
              "    fill: var(--button-hover-fill-color);\n",
              "  }\n",
              "\n",
              "  .colab-df-quickchart-complete:disabled,\n",
              "  .colab-df-quickchart-complete:disabled:hover {\n",
              "    background-color: var(--disabled-bg-color);\n",
              "    fill: var(--disabled-fill-color);\n",
              "    box-shadow: none;\n",
              "  }\n",
              "\n",
              "  .colab-df-spinner {\n",
              "    border: 2px solid var(--fill-color);\n",
              "    border-color: transparent;\n",
              "    border-bottom-color: var(--fill-color);\n",
              "    animation:\n",
              "      spin 1s steps(1) infinite;\n",
              "  }\n",
              "\n",
              "  @keyframes spin {\n",
              "    0% {\n",
              "      border-color: transparent;\n",
              "      border-bottom-color: var(--fill-color);\n",
              "      border-left-color: var(--fill-color);\n",
              "    }\n",
              "    20% {\n",
              "      border-color: transparent;\n",
              "      border-left-color: var(--fill-color);\n",
              "      border-top-color: var(--fill-color);\n",
              "    }\n",
              "    30% {\n",
              "      border-color: transparent;\n",
              "      border-left-color: var(--fill-color);\n",
              "      border-top-color: var(--fill-color);\n",
              "      border-right-color: var(--fill-color);\n",
              "    }\n",
              "    40% {\n",
              "      border-color: transparent;\n",
              "      border-right-color: var(--fill-color);\n",
              "      border-top-color: var(--fill-color);\n",
              "    }\n",
              "    60% {\n",
              "      border-color: transparent;\n",
              "      border-right-color: var(--fill-color);\n",
              "    }\n",
              "    80% {\n",
              "      border-color: transparent;\n",
              "      border-right-color: var(--fill-color);\n",
              "      border-bottom-color: var(--fill-color);\n",
              "    }\n",
              "    90% {\n",
              "      border-color: transparent;\n",
              "      border-bottom-color: var(--fill-color);\n",
              "    }\n",
              "  }\n",
              "</style>\n",
              "\n",
              "  <script>\n",
              "    async function quickchart(key) {\n",
              "      const quickchartButtonEl =\n",
              "        document.querySelector('#' + key + ' button');\n",
              "      quickchartButtonEl.disabled = true;  // To prevent multiple clicks.\n",
              "      quickchartButtonEl.classList.add('colab-df-spinner');\n",
              "      try {\n",
              "        const charts = await google.colab.kernel.invokeFunction(\n",
              "            'suggestCharts', [key], {});\n",
              "      } catch (error) {\n",
              "        console.error('Error during call to suggestCharts:', error);\n",
              "      }\n",
              "      quickchartButtonEl.classList.remove('colab-df-spinner');\n",
              "      quickchartButtonEl.classList.add('colab-df-quickchart-complete');\n",
              "    }\n",
              "    (() => {\n",
              "      let quickchartButtonEl =\n",
              "        document.querySelector('#df-4c4ad338-b4ba-423e-91ac-7e54573b0747 button');\n",
              "      quickchartButtonEl.style.display =\n",
              "        google.colab.kernel.accessAllowed ? 'block' : 'none';\n",
              "    })();\n",
              "  </script>\n",
              "</div>\n",
              "\n",
              "  <div id=\"id_4fd06c7a-3286-46ea-b6c0-3aca2e272266\">\n",
              "    <style>\n",
              "      .colab-df-generate {\n",
              "        background-color: #E8F0FE;\n",
              "        border: none;\n",
              "        border-radius: 50%;\n",
              "        cursor: pointer;\n",
              "        display: none;\n",
              "        fill: #1967D2;\n",
              "        height: 32px;\n",
              "        padding: 0 0 0 0;\n",
              "        width: 32px;\n",
              "      }\n",
              "\n",
              "      .colab-df-generate:hover {\n",
              "        background-color: #E2EBFA;\n",
              "        box-shadow: 0px 1px 2px rgba(60, 64, 67, 0.3), 0px 1px 3px 1px rgba(60, 64, 67, 0.15);\n",
              "        fill: #174EA6;\n",
              "      }\n",
              "\n",
              "      [theme=dark] .colab-df-generate {\n",
              "        background-color: #3B4455;\n",
              "        fill: #D2E3FC;\n",
              "      }\n",
              "\n",
              "      [theme=dark] .colab-df-generate:hover {\n",
              "        background-color: #434B5C;\n",
              "        box-shadow: 0px 1px 3px 1px rgba(0, 0, 0, 0.15);\n",
              "        filter: drop-shadow(0px 1px 2px rgba(0, 0, 0, 0.3));\n",
              "        fill: #FFFFFF;\n",
              "      }\n",
              "    </style>\n",
              "    <button class=\"colab-df-generate\" onclick=\"generateWithVariable('prog')\"\n",
              "            title=\"Generate code using this dataframe.\"\n",
              "            style=\"display:none;\">\n",
              "\n",
              "  <svg xmlns=\"http://www.w3.org/2000/svg\" height=\"24px\"viewBox=\"0 0 24 24\"\n",
              "       width=\"24px\">\n",
              "    <path d=\"M7,19H8.4L18.45,9,17,7.55,7,17.6ZM5,21V16.75L18.45,3.32a2,2,0,0,1,2.83,0l1.4,1.43a1.91,1.91,0,0,1,.58,1.4,1.91,1.91,0,0,1-.58,1.4L9.25,21ZM18.45,9,17,7.55Zm-12,3A5.31,5.31,0,0,0,4.9,8.1,5.31,5.31,0,0,0,1,6.5,5.31,5.31,0,0,0,4.9,4.9,5.31,5.31,0,0,0,6.5,1,5.31,5.31,0,0,0,8.1,4.9,5.31,5.31,0,0,0,12,6.5,5.46,5.46,0,0,0,6.5,12Z\"/>\n",
              "  </svg>\n",
              "    </button>\n",
              "    <script>\n",
              "      (() => {\n",
              "      const buttonEl =\n",
              "        document.querySelector('#id_4fd06c7a-3286-46ea-b6c0-3aca2e272266 button.colab-df-generate');\n",
              "      buttonEl.style.display =\n",
              "        google.colab.kernel.accessAllowed ? 'block' : 'none';\n",
              "\n",
              "      buttonEl.onclick = () => {\n",
              "        google.colab.notebook.generateWithVariable('prog');\n",
              "      }\n",
              "      })();\n",
              "    </script>\n",
              "  </div>\n",
              "\n",
              "    </div>\n",
              "  </div>\n"
            ],
            "application/vnd.google.colaboratory.intrinsic+json": {
              "type": "dataframe",
              "variable_name": "prog",
              "summary": "{\n  \"name\": \"prog\",\n  \"rows\": 24,\n  \"fields\": [\n    {\n      \"column\": \"Stunde\",\n      \"properties\": {\n        \"dtype\": \"number\",\n        \"std\": 7,\n        \"min\": 1,\n        \"max\": 24,\n        \"num_unique_values\": 24,\n        \"samples\": [\n          9,\n          17,\n          1\n        ],\n        \"semantic_type\": \"\",\n        \"description\": \"\"\n      }\n    },\n    {\n      \"column\": \"Erwartungswert\",\n      \"properties\": {\n        \"dtype\": \"number\",\n        \"std\": 34.32447215043222,\n        \"min\": 12.52,\n        \"max\": 144.8,\n        \"num_unique_values\": 24,\n        \"samples\": [\n          80.92,\n          34.88,\n          81.52\n        ],\n        \"semantic_type\": \"\",\n        \"description\": \"\"\n      }\n    }\n  ]\n}"
            }
          },
          "metadata": {},
          "execution_count": 64
        }
      ],
      "source": [
        "#Erwartungswerte ausgeben\n",
        "prog"
      ]
    },
    {
      "cell_type": "markdown",
      "metadata": {
        "id": "ycNpiCNoCcbE"
      },
      "source": [
        "# Optimierungsmodell"
      ]
    },
    {
      "cell_type": "code",
      "execution_count": 65,
      "metadata": {
        "id": "6m295IwtCh39"
      },
      "outputs": [],
      "source": [
        "scip = Model()"
      ]
    },
    {
      "cell_type": "markdown",
      "metadata": {
        "id": "798a67ee"
      },
      "source": [
        "## Indexmengen"
      ]
    },
    {
      "cell_type": "code",
      "execution_count": 66,
      "metadata": {
        "id": "goOwHnFj_ofs"
      },
      "outputs": [],
      "source": [
        "#Menge der Stunden\n",
        "H = prog[\"Stunde\"].unique().tolist()"
      ]
    },
    {
      "cell_type": "code",
      "execution_count": 67,
      "metadata": {
        "colab": {
          "base_uri": "https://localhost:8080/"
        },
        "id": "R9jzxvmzborK",
        "outputId": "c0c369c0-eb08-42ba-ce63-c3726b6e53c5"
      },
      "outputs": [
        {
          "output_type": "execute_result",
          "data": {
            "text/plain": [
              "[1,\n",
              " 2,\n",
              " 3,\n",
              " 4,\n",
              " 5,\n",
              " 6,\n",
              " 7,\n",
              " 8,\n",
              " 9,\n",
              " 10,\n",
              " 11,\n",
              " 12,\n",
              " 13,\n",
              " 14,\n",
              " 15,\n",
              " 16,\n",
              " 17,\n",
              " 18,\n",
              " 19,\n",
              " 20,\n",
              " 21,\n",
              " 22,\n",
              " 23,\n",
              " 24]"
            ]
          },
          "metadata": {},
          "execution_count": 67
        }
      ],
      "source": [
        "H"
      ]
    },
    {
      "cell_type": "markdown",
      "metadata": {
        "id": "MXWIOxTkaNl8"
      },
      "source": [
        "\n",
        "\n",
        "---\n",
        "\n"
      ]
    },
    {
      "cell_type": "markdown",
      "metadata": {
        "id": "b99b4ca0"
      },
      "source": [
        "## Parameter"
      ]
    },
    {
      "cell_type": "code",
      "execution_count": 68,
      "metadata": {
        "id": "mPy70JUvS_bF"
      },
      "outputs": [],
      "source": [
        "#Nominelle Speicherkapazität\n",
        "sn = 40"
      ]
    },
    {
      "cell_type": "code",
      "execution_count": 69,
      "metadata": {
        "id": "ApRCJo7zVFte"
      },
      "outputs": [],
      "source": [
        "#Wirkungsgrad Wechselrichter\n",
        "ww = 0.985"
      ]
    },
    {
      "cell_type": "code",
      "execution_count": 70,
      "metadata": {
        "id": "ypQGbibLVSle"
      },
      "outputs": [],
      "source": [
        "#Round Trip Efficiency (RTE)\n",
        "r = 0.95"
      ]
    },
    {
      "cell_type": "code",
      "execution_count": 71,
      "metadata": {
        "id": "OzLrH4uYWGF9"
      },
      "outputs": [],
      "source": [
        "#Wirkungsgrad Laden/Entladen\n",
        "wl = 1-(1-r)/2"
      ]
    },
    {
      "cell_type": "code",
      "execution_count": 72,
      "metadata": {
        "id": "wZeYNhpdWX0g"
      },
      "outputs": [],
      "source": [
        "#Gesamtwirkungsgrad\n",
        "w = ww * wl"
      ]
    },
    {
      "cell_type": "code",
      "execution_count": 73,
      "metadata": {
        "id": "csevf-S6WjEN"
      },
      "outputs": [],
      "source": [
        "#C-Rate\n",
        "c = 0.5"
      ]
    },
    {
      "cell_type": "code",
      "execution_count": 74,
      "metadata": {
        "id": "rEipPXMGWq9W"
      },
      "outputs": [],
      "source": [
        "#Depth-of-Discharge\n",
        "d = 0.8"
      ]
    },
    {
      "cell_type": "code",
      "execution_count": 75,
      "metadata": {
        "id": "Q1Xehhi_W3eu"
      },
      "outputs": [],
      "source": [
        "#Maximale Anzahl an Vollzyklen\n",
        "z = 2"
      ]
    },
    {
      "cell_type": "code",
      "execution_count": 76,
      "metadata": {
        "id": "hRVbuE3kW-xg"
      },
      "outputs": [],
      "source": [
        "#Kosten pro Speicherzyklus\n",
        "fk = 1500"
      ]
    },
    {
      "cell_type": "code",
      "execution_count": 77,
      "metadata": {
        "id": "aiXiEJOMXGJv"
      },
      "outputs": [],
      "source": [
        "#Anteil des Speicherstandes zum Ende des Tages\n",
        "x = 0.5"
      ]
    },
    {
      "cell_type": "code",
      "execution_count": 78,
      "metadata": {
        "id": "WWyJYvNDXWOR"
      },
      "outputs": [],
      "source": [
        "#Speicherstand zum Ende jedes Tages\n",
        "e = x * sn"
      ]
    },
    {
      "cell_type": "markdown",
      "metadata": {
        "id": "8rni3TYaS0uc"
      },
      "source": [
        "### Prognosepreis zu jeder Stunde ( $p_h$ )"
      ]
    },
    {
      "cell_type": "markdown",
      "metadata": {
        "id": "L6NGKxMbP676"
      },
      "source": [
        "Spaltenüberschrift definieren"
      ]
    },
    {
      "cell_type": "code",
      "execution_count": 79,
      "metadata": {
        "id": "a8M_uXZOEOee"
      },
      "outputs": [],
      "source": [
        "h = \"Stunde\""
      ]
    },
    {
      "cell_type": "markdown",
      "metadata": {
        "id": "wH6T6GHrP8y7"
      },
      "source": [
        "Liste mit den Stunden vorbereiten"
      ]
    },
    {
      "cell_type": "code",
      "execution_count": 80,
      "metadata": {
        "id": "LnaXtWEACWoU"
      },
      "outputs": [],
      "source": [
        "prog.set_index([h], inplace=True)"
      ]
    },
    {
      "cell_type": "markdown",
      "metadata": {
        "id": "ehcwdYt6QBv6"
      },
      "source": [
        "Erwartungswert den Stunden zuordnen"
      ]
    },
    {
      "cell_type": "code",
      "execution_count": 81,
      "metadata": {
        "id": "jYH7_PMTCmqw"
      },
      "outputs": [],
      "source": [
        "p = prog.to_dict(\"dict\")[\"Erwartungswert\"]"
      ]
    },
    {
      "cell_type": "markdown",
      "metadata": {
        "id": "2x5C72-jQICP"
      },
      "source": [
        "Liste zur Überprüfung ausgeben"
      ]
    },
    {
      "cell_type": "code",
      "execution_count": 82,
      "metadata": {
        "colab": {
          "base_uri": "https://localhost:8080/"
        },
        "id": "0ELo2cYQDaKm",
        "outputId": "b5d0af65-a21d-4dc0-da06-00a51c1bb6c4"
      },
      "outputs": [
        {
          "output_type": "execute_result",
          "data": {
            "text/plain": [
              "{1: 81.52,\n",
              " 2: 72.24,\n",
              " 3: 68.16,\n",
              " 4: 66.64,\n",
              " 5: 66.8,\n",
              " 6: 71.04,\n",
              " 7: 88.56,\n",
              " 8: 92.68,\n",
              " 9: 80.92,\n",
              " 10: 61.08,\n",
              " 11: 43.08,\n",
              " 12: 30.88,\n",
              " 13: 22.44,\n",
              " 14: 15.96,\n",
              " 15: 12.52,\n",
              " 16: 18.44,\n",
              " 17: 34.88,\n",
              " 18: 56.56,\n",
              " 19: 78.44,\n",
              " 20: 105.6,\n",
              " 21: 144.8,\n",
              " 22: 125.12,\n",
              " 23: 101.36,\n",
              " 24: 85.28}"
            ]
          },
          "metadata": {},
          "execution_count": 82
        }
      ],
      "source": [
        "p"
      ]
    },
    {
      "cell_type": "markdown",
      "metadata": {
        "id": "mTcC7B7oaFZa"
      },
      "source": [
        "\n",
        "\n",
        "---\n",
        "\n"
      ]
    },
    {
      "cell_type": "markdown",
      "metadata": {
        "id": "MunQacpeZg00"
      },
      "source": [
        "## Entscheidungsvariablen"
      ]
    },
    {
      "cell_type": "code",
      "execution_count": 83,
      "metadata": {
        "id": "afb847d3"
      },
      "outputs": [],
      "source": [
        "#Speicherstand zu jeder vollen Stunde\n",
        "s={}\n",
        "for h in H:\n",
        "  s[h] = scip.addVar(vtype=\"C\", name=f\"{h}\")"
      ]
    },
    {
      "cell_type": "code",
      "execution_count": 84,
      "metadata": {
        "id": "VzC7MzIcAng7"
      },
      "outputs": [],
      "source": [
        "#Gebotsmenge zu jeder vollen Stunde - Kauf\n",
        "mk={}\n",
        "for h in H:\n",
        "    mk[h] = scip.addVar(vtype=\"C\",lb=0, name=f\"{h}\")"
      ]
    },
    {
      "cell_type": "code",
      "execution_count": 85,
      "metadata": {
        "id": "oVB5DKF4bNep"
      },
      "outputs": [],
      "source": [
        "#Gebotsmenge zu jeder vollen Stunde - Verkauf\n",
        "mv={}\n",
        "for h in H:\n",
        "    mv[h] = scip.addVar(vtype=\"C\",lb=0, name=f\"{h}\")"
      ]
    },
    {
      "cell_type": "code",
      "execution_count": 86,
      "metadata": {
        "colab": {
          "base_uri": "https://localhost:8080/"
        },
        "id": "hN6GY-5YBA9Y",
        "outputId": "bfa89d0d-61ec-49be-9eb6-3d7f3340eadd"
      },
      "outputs": [
        {
          "output_type": "stream",
          "name": "stdout",
          "text": [
            "Anzahl Entscheidungsvariablen = 72\n"
          ]
        }
      ],
      "source": [
        "#Anzahl der Entscheidungsvariablen\n",
        "print('Anzahl Entscheidungsvariablen =', len(scip.getVars()))"
      ]
    },
    {
      "cell_type": "markdown",
      "metadata": {
        "id": "c9eede10"
      },
      "source": [
        "## Zielfunktion"
      ]
    },
    {
      "cell_type": "markdown",
      "metadata": {
        "id": "PUzTlPE9WBCG"
      },
      "source": [
        "max. $G=\\sum mv_{h} * p_{h} - \\sum mk_{h} * p_{h} - fk * \\frac{\\sum mk_{h} * w} {d*s^n}$ $\\forall h \\in H$"
      ]
    },
    {
      "cell_type": "code",
      "execution_count": 87,
      "metadata": {
        "id": "954d02bf"
      },
      "outputs": [],
      "source": [
        "scip.setObjective(quicksum(mv[h]*p[h] for h in H) - quicksum(mk[h]*p[h] for h in H) - fk * (quicksum(mk[h] * w for h in H ) / (d * sn)), sense=\"maximize\")"
      ]
    },
    {
      "cell_type": "markdown",
      "metadata": {
        "id": "a8534816"
      },
      "source": [
        "## Nebenbedingungen"
      ]
    },
    {
      "cell_type": "markdown",
      "metadata": {
        "id": "rxBPJwPns3IM"
      },
      "source": [
        "###Berücksichtigung von nomineller Speicherkapazität und Depth-of-Discharge\n"
      ]
    },
    {
      "cell_type": "markdown",
      "metadata": {
        "id": "XgWcMV3kWVwC"
      },
      "source": [
        "$s^n * (1-d) \\le s_h \\le s^n$ $\\forall h \\in H$\n"
      ]
    },
    {
      "cell_type": "code",
      "execution_count": 88,
      "metadata": {
        "id": "Ga5JZg-etUjx"
      },
      "outputs": [],
      "source": [
        "for h in H:\n",
        "  scip.addCons(sn * (1-d) <= s[h])\n",
        "  scip.addCons(s[h] <= sn)"
      ]
    },
    {
      "cell_type": "markdown",
      "metadata": {
        "id": "O6UtuhQIuBtI"
      },
      "source": [
        "###Berücksichtigung der C-Rate bei Aufladung"
      ]
    },
    {
      "cell_type": "markdown",
      "metadata": {
        "id": "-B_BIsTDuKGy"
      },
      "source": [
        "$w * mk_h \\le c * s^n$ $\\forall h \\in H$"
      ]
    },
    {
      "cell_type": "code",
      "execution_count": 89,
      "metadata": {
        "id": "TvGLfbtFuJXP"
      },
      "outputs": [],
      "source": [
        "for h in H:\n",
        "  scip.addCons(w * mk[h] <= c * sn)"
      ]
    },
    {
      "cell_type": "markdown",
      "metadata": {
        "id": "sa_VS-A0vSjA"
      },
      "source": [
        "###Berücksichtigung der C-Rate bei Entladung"
      ]
    },
    {
      "cell_type": "markdown",
      "metadata": {
        "id": "-bTTxXBsvV4j"
      },
      "source": [
        "$\\frac{1}{w} * mv_h \\le c * s^n$ $\\forall h \\in H$"
      ]
    },
    {
      "cell_type": "code",
      "execution_count": 90,
      "metadata": {
        "id": "fe4SFJkAvVFU"
      },
      "outputs": [],
      "source": [
        "for h in H:\n",
        "  scip.addCons((1/w) * mv[h] <= c * sn)"
      ]
    },
    {
      "cell_type": "markdown",
      "metadata": {
        "id": "tlxkb_Z6vn96"
      },
      "source": [
        "###Berücksichtigung der maximalen Anzahl an Vollzyklen (2 Vollzyklen)\n"
      ]
    },
    {
      "cell_type": "markdown",
      "metadata": {
        "id": "OzxR8398vsso"
      },
      "source": [
        "$\\sum_h (mk_h * w) \\le z * d * s^n$ $\\forall h \\in H$"
      ]
    },
    {
      "cell_type": "code",
      "execution_count": 91,
      "metadata": {
        "colab": {
          "base_uri": "https://localhost:8080/"
        },
        "id": "54xzOicuwGGn",
        "outputId": "d68622e9-2e51-4a5d-b41b-4ca8fe8bc6a4"
      },
      "outputs": [
        {
          "output_type": "execute_result",
          "data": {
            "text/plain": [
              "c97"
            ]
          },
          "metadata": {},
          "execution_count": 91
        }
      ],
      "source": [
        "scip.addCons(quicksum(mk[h] * w for h in H) <= z * d * sn)"
      ]
    },
    {
      "cell_type": "markdown",
      "metadata": {
        "id": "P5zsjpOgwqcW"
      },
      "source": [
        "###Berücksichtigung der 20 MW zu Tagesbeginn"
      ]
    },
    {
      "cell_type": "markdown",
      "metadata": {
        "id": "xiSMz1AFwtu-"
      },
      "source": [
        "$s_1 = mk_1 * w - mv_1 * \\frac{1}{w} + e$"
      ]
    },
    {
      "cell_type": "code",
      "execution_count": 92,
      "metadata": {
        "colab": {
          "base_uri": "https://localhost:8080/"
        },
        "id": "nlhRWLMbw0vF",
        "outputId": "f56b63f9-be05-4c42-e5bd-77fecbcc5a5e"
      },
      "outputs": [
        {
          "output_type": "execute_result",
          "data": {
            "text/plain": [
              "c98"
            ]
          },
          "metadata": {},
          "execution_count": 92
        }
      ],
      "source": [
        "scip.addCons(s[1] == mk[1] * w - (mv[1] * (1/w)) + e)"
      ]
    },
    {
      "cell_type": "markdown",
      "metadata": {
        "id": "BSQsl08HyC9v"
      },
      "source": [
        "###Am Ende des Tages müssen 20 MW gespeichert sein"
      ]
    },
    {
      "cell_type": "markdown",
      "metadata": {
        "id": "iwumafR-xMw9"
      },
      "source": [
        "$s_{24}=e$"
      ]
    },
    {
      "cell_type": "code",
      "execution_count": 93,
      "metadata": {
        "colab": {
          "base_uri": "https://localhost:8080/"
        },
        "id": "YWu6fh3byS1b",
        "outputId": "0ce22ced-69d5-4534-8e25-6bb761ad9dfd"
      },
      "outputs": [
        {
          "output_type": "execute_result",
          "data": {
            "text/plain": [
              "c99"
            ]
          },
          "metadata": {},
          "execution_count": 93
        }
      ],
      "source": [
        "scip.addCons(s[24] == e)"
      ]
    },
    {
      "cell_type": "markdown",
      "metadata": {
        "id": "MDMK9XaBzG8O"
      },
      "source": [
        "###Speicherstand zum Ende jeder Stunde h"
      ]
    },
    {
      "cell_type": "markdown",
      "metadata": {
        "id": "y_sfsUNQzJo6"
      },
      "source": [
        "$s_h = s_{h-1} + mk_h * w – mv_h * \\frac{1}{w}$ $\\forall h \\in H$"
      ]
    },
    {
      "cell_type": "code",
      "execution_count": 94,
      "metadata": {
        "id": "_y7vuBxuzhHo"
      },
      "outputs": [],
      "source": [
        "for h in H:\n",
        "  if h != 1:\n",
        "    scip.addCons(s[h] == s[h-1] + mk[h] * w - mv[h] * (1/w))\n",
        "  else:\n",
        "    scip.addCons(s[h] == mk[h] * w - (mv[h] * (1/w)) + e)"
      ]
    },
    {
      "cell_type": "markdown",
      "metadata": {
        "id": "9a459618"
      },
      "source": [
        "## Optimierung"
      ]
    },
    {
      "cell_type": "code",
      "execution_count": 95,
      "metadata": {
        "colab": {
          "base_uri": "https://localhost:8080/"
        },
        "id": "-rx0rt_5Dt2G",
        "outputId": "5abeeccf-795f-41bd-ef7f-4331e898e14a"
      },
      "outputs": [
        {
          "output_type": "stream",
          "name": "stdout",
          "text": [
            "optimal\n"
          ]
        }
      ],
      "source": [
        "scip.optimize()\n",
        "print(scip.getStatus())"
      ]
    },
    {
      "cell_type": "code",
      "execution_count": 96,
      "metadata": {
        "colab": {
          "base_uri": "https://localhost:8080/"
        },
        "id": "RigS9dSuD4nw",
        "outputId": "1d19ffed-2fd8-4743-e43c-af308ffc69ad"
      },
      "outputs": [
        {
          "output_type": "stream",
          "name": "stdout",
          "text": [
            "LÖSUNG:\n",
            "Zielfunktionswert (Gewinn) = 1889.18\n",
            "\n",
            "\n",
            "Gebotsmenge für Kauf/Verkauf und Speicherstand zu jeder Stunde\n",
            "1:\n",
            "\t Gebotsmenge Kauf = 0.0\n",
            "\t Gebotsmenge Verkauf = 0.0\n",
            "\t Speicherstand = 20.0\n",
            "2:\n",
            "\t Gebotsmenge Kauf = 0.0\n",
            "\t Gebotsmenge Verkauf = 0.0\n",
            "\t Speicherstand = 20.0\n",
            "3:\n",
            "\t Gebotsmenge Kauf = 0.0\n",
            "\t Gebotsmenge Verkauf = 0.0\n",
            "\t Speicherstand = 20.0\n",
            "4:\n",
            "\t Gebotsmenge Kauf = 0.0\n",
            "\t Gebotsmenge Verkauf = 0.0\n",
            "\t Speicherstand = 20.0\n",
            "5:\n",
            "\t Gebotsmenge Kauf = 0.0\n",
            "\t Gebotsmenge Verkauf = 0.0\n",
            "\t Speicherstand = 20.0\n",
            "6:\n",
            "\t Gebotsmenge Kauf = 0.0\n",
            "\t Gebotsmenge Verkauf = 0.0\n",
            "\t Speicherstand = 20.0\n",
            "7:\n",
            "\t Gebotsmenge Kauf = 0.0\n",
            "\t Gebotsmenge Verkauf = 0.0\n",
            "\t Speicherstand = 20.0\n",
            "8:\n",
            "\t Gebotsmenge Kauf = 0.0\n",
            "\t Gebotsmenge Verkauf = 11.52\n",
            "\t Speicherstand = 8.0\n",
            "9:\n",
            "\t Gebotsmenge Kauf = 0.0\n",
            "\t Gebotsmenge Verkauf = 0.0\n",
            "\t Speicherstand = 8.0\n",
            "10:\n",
            "\t Gebotsmenge Kauf = 0.0\n",
            "\t Gebotsmenge Verkauf = 0.0\n",
            "\t Speicherstand = 8.0\n",
            "11:\n",
            "\t Gebotsmenge Kauf = 0.0\n",
            "\t Gebotsmenge Verkauf = 0.0\n",
            "\t Speicherstand = 8.0\n",
            "12:\n",
            "\t Gebotsmenge Kauf = 0.0\n",
            "\t Gebotsmenge Verkauf = 0.0\n",
            "\t Speicherstand = 8.0\n",
            "13:\n",
            "\t Gebotsmenge Kauf = 0.0\n",
            "\t Gebotsmenge Verkauf = 0.0\n",
            "\t Speicherstand = 8.0\n",
            "14:\n",
            "\t Gebotsmenge Kauf = 12.5\n",
            "\t Gebotsmenge Verkauf = 0.0\n",
            "\t Speicherstand = 20.0\n",
            "15:\n",
            "\t Gebotsmenge Kauf = 20.83\n",
            "\t Gebotsmenge Verkauf = 0.0\n",
            "\t Speicherstand = 40.0\n",
            "16:\n",
            "\t Gebotsmenge Kauf = 0.0\n",
            "\t Gebotsmenge Verkauf = 0.0\n",
            "\t Speicherstand = 40.0\n",
            "17:\n",
            "\t Gebotsmenge Kauf = 0.0\n",
            "\t Gebotsmenge Verkauf = 0.0\n",
            "\t Speicherstand = 40.0\n",
            "18:\n",
            "\t Gebotsmenge Kauf = 0.0\n",
            "\t Gebotsmenge Verkauf = 0.0\n",
            "\t Speicherstand = 40.0\n",
            "19:\n",
            "\t Gebotsmenge Kauf = 0.0\n",
            "\t Gebotsmenge Verkauf = 0.0\n",
            "\t Speicherstand = 40.0\n",
            "20:\n",
            "\t Gebotsmenge Kauf = 0.0\n",
            "\t Gebotsmenge Verkauf = 0.0\n",
            "\t Speicherstand = 40.0\n",
            "21:\n",
            "\t Gebotsmenge Kauf = 0.0\n",
            "\t Gebotsmenge Verkauf = 19.21\n",
            "\t Speicherstand = 20.0\n",
            "22:\n",
            "\t Gebotsmenge Kauf = 0.0\n",
            "\t Gebotsmenge Verkauf = 0.0\n",
            "\t Speicherstand = 20.0\n",
            "23:\n",
            "\t Gebotsmenge Kauf = 0.0\n",
            "\t Gebotsmenge Verkauf = 0.0\n",
            "\t Speicherstand = 20.0\n",
            "24:\n",
            "\t Gebotsmenge Kauf = 0.0\n",
            "\t Gebotsmenge Verkauf = -0.0\n",
            "\t Speicherstand = 20.0\n"
          ]
        }
      ],
      "source": [
        "print('LÖSUNG:')\n",
        "print('Zielfunktionswert (Gewinn) =', round(scip.getObjVal(), 2))\n",
        "print(\"\\n\")\n",
        "print(\"Gebotsmenge für Kauf/Verkauf und Speicherstand zu jeder Stunde\")\n",
        "for h in H:\n",
        "  print(f\"{h}:\")\n",
        "  print('\\t', f'Gebotsmenge Kauf =', round(scip.getVal(mk[h]), 2))\n",
        "  print('\\t', f'Gebotsmenge Verkauf =', round(scip.getVal(mv[h]), 2))\n",
        "  print('\\t', f'Speicherstand =', round(scip.getVal(s[h]), 2))"
      ]
    }
  ],
  "metadata": {
    "colab": {
      "collapsed_sections": [
        "4hq4f4QWRVp0",
        "Gjiz7NTLR2Rs",
        "muy4OW--8Dp5",
        "DdUWFtmTFugI",
        "798a67ee",
        "b99b4ca0",
        "8rni3TYaS0uc",
        "MunQacpeZg00"
      ],
      "provenance": [],
      "include_colab_link": true
    },
    "kernelspec": {
      "display_name": "Python 3",
      "name": "python3"
    },
    "language_info": {
      "name": "python"
    }
  },
  "nbformat": 4,
  "nbformat_minor": 0
}